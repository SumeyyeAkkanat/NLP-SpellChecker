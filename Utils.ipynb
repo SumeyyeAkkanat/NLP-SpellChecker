{
 "cells": [
  {
   "cell_type": "code",
   "execution_count": 1,
   "id": "occasional-principal",
   "metadata": {},
   "outputs": [],
   "source": [
    "import re\n",
    "from string import punctuation\n",
    "class Utils():\n",
    "    def removeUndesiredCharsFromText(text,alfabe ='ABCÇDEFGĞHIİJKLMNOÖPRSŞTUÜVYZabcçdefgğhıijklmnoöprsştuüvyz0123456789 '+'\\n'):\n",
    "        cleaned_text = ''\n",
    "        for char in text:\n",
    "            if char in alfabe:\n",
    "                cleaned_text = cleaned_text + char\n",
    "\n",
    "        return cleaned_text\n",
    "\n",
    "    def replaceChars(text):\n",
    "        text = re.sub(r\"Â\", \"A\", text)\n",
    "        text = re.sub(r\"â\", \"a\", text)\n",
    "        text = re.sub(r\"Î\", \"I\", text)\n",
    "        text = re.sub(r\"î\", \"ı\", text)\n",
    "        text = re.sub(r\"Û\", \"U\", text)\n",
    "        text = re.sub(r\"û\", \"u\", text)\n",
    "        return text\n",
    "\n",
    "    def removeNewLine(text):\n",
    "        text = re.sub(r\"\\n\", \"  \", text)\n",
    "        text = re.sub(r\"  \", \" \", text)\n",
    "        return text\n",
    "    \n",
    "    def toLowercase(text):\n",
    "        text = re.sub(r\"I\", \"ı\", text)\n",
    "        text = text.lower()\n",
    "        return text\n",
    "    \n",
    "    def removePunctionEnd(text):\n",
    "        new = [i.strip (punctuation) for i in text.split ()]\n",
    "        return \" \".join (new)\n",
    "\n",
    "    def removePunction(text):\n",
    "        text = ''.join([c for c in text if c not in punctuation])\n",
    "        return text\n",
    " "
   ]
  }
 ],
 "metadata": {
  "kernelspec": {
   "display_name": "Python 3",
   "language": "python",
   "name": "python3"
  },
  "language_info": {
   "codemirror_mode": {
    "name": "ipython",
    "version": 3
   },
   "file_extension": ".py",
   "mimetype": "text/x-python",
   "name": "python",
   "nbconvert_exporter": "python",
   "pygments_lexer": "ipython3",
   "version": "3.8.8"
  }
 },
 "nbformat": 4,
 "nbformat_minor": 5
}
