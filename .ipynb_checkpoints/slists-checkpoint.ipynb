{
 "cells": [
  {
   "cell_type": "code",
   "execution_count": 1,
   "id": "resident-gathering",
   "metadata": {},
   "outputs": [],
   "source": [
    "conjunctions=[\",\",\";\",\"ama\",\"amma\",\"ancak\",\"açıkçası\",\"adeta\",\"âdeta\",\"bari\",\"belki\",\"bile\",\"bir başka deyişle\",\"binaenaleyh\",\n",
    "           \"dahi\",\"de\",\"demek\",\"demek ki\",\"dışında\",\"eğer\",\"fakat\",\"gene\",\"gelgelelim\",\"gerek\",\"gerekse\",\"gâh\",\"gibi\",\"hatta\",\n",
    "           \"halbuki\",\"hâlbuki\",\"hazır\",\"hakeza\",\"hele\",\"hem\",\"kaldı ki\",\"karşın\",\"kâh\",\"keşke\",\"keza\",\"kısaca\",\"ki\",\"lakin\",\n",
    "           \"lâkin\",\"madem\",\"mademki\",\"mamafih\",\"maydamı\",\"meğerki\",\"meğerse\",\"nasıl ki\",\"ne var ki\",\"ne yazık ki\",\"nitekim\",\n",
    "           \"neyse\",\"oysa\",\"oysaki\",\"öyle ki\",\"öyleyse\",\"üstelik\",\"sanki\",\"sonra\",\"sonra da\",\"ve\",\"ve de\",\"velakin\",\"velev\",\n",
    "           \"velhâsıl\",\"velhâsılıkelâm\",\"veya\",\"veyahut\",\"ya da\",\"yahut\",\"yalınız\",\"yalnız\",\"yani\",\"yeter ki\",\"yine\",\"yok\",\n",
    "           \"yoksa\",\"zaten\",\"zati\",\"zira\",\"çünkü\",\"ile\",\"illa\",\"illa ki\",\"ille velakin\",\"ille velâkin\",\"imdi\",\"ise\"]\n",
    "abbreviations=[,\"K.\",\"dzl.\",\"Ecz.\",\"ed.\",\"e.\",\"ekon.\",\"Ens.\",\"Erm.\",\"f.\",\"Fak.\",\"Far.\",\"fel.\",\"age.\",\"agm.\",\"agy.\",\"Alb.\",\"Alm.\",\"anat.\",\"ant.\",\"Apt.\",\"Ar.\",\"ark.\",\"Arş.\",\"Gör.\",\"As.\",\"As.\",\"İz.\",\"Asb.\",\"astr.\",\n",
    "        \"astrol.\",\"Atğm.\",\"atm.\",\"Av.\",\"bağ.\",\"Bçvş.\",\"bit.\",\"b.\",\"biy.\",\"bk.\",\"bl.\",\"Bl.\",\"Bn.\",\"Bnb.\",\"bot.\",\"Böl.\",\"bs.\",\n",
    "        \"Bşk.\",\"Bul.\",\"Bulg.\",\"Cad.\",\"coğ.\",\"Cum.\",\"Bşk.\",\"çev.\",\"Çvş.\",\"db.\",\"dil\",\"b.\",\"dk.\",\"Doç.\",\"doğ.\",\"Dr.\",\"drl.\",\n",
    "        \"Dz.\",\"Kuv.\",\"Dz.\",\"Kuv.\",\"fil.\",\"fiz.\",\n",
    "        \"fizy.\",\"Fr.\",\"Gen.\",\"geom.\",\"gn.\",\"Gnkur.\",\"Gön.\",\"gr.\",\"hay.\",\"b.\",\"haz.\",\"hek.\",\"hlk.\",\"Hs.\",\"Uzm.\",\"huk.\",\"Hv.\",\"Kuv.\",\n",
    "        \"Hv.\",\"Kuv.\",\"K.\",\"Hz.\",\"öz.\",\"Hz.\",\"İbr.\",\"İng.\",\"is.\",\"İsp.\",\"işl.\",\"İt.\",\"Jap.\",\"jeol.\",\"kim.\",\"koor.\",\"Kor.\",\n",
    "        \"Kora.\",\"Korg.\",\"kr.\",\"krş.\",\"Kur.\",\"Kur.\",\"Bşk.\",\"Lat.\",\"Ltd.\",\"Mac.\",\"Mah.\",\"man.\",\"mat.\",\"Md.\",\"mec.\",\"mim.\",\n",
    "        \"min.\",\"Müh.\",\"Mür.\",\"müz.\",\"No.\",\"Nö.\",\"Nö.\",\"Sb.\",\"Okt.\",\"Onb.\",\"Opr.\",\"Or.\",\"Ora.\",\"Ord.\",\"Org.\",\"Ort.\",\"Osm.\",\"T.\",\n",
    "        \"öl.\",\"ör.\",\"öz.\",\"ped.\",\"Port.\",\"Prof.\",\"psikol.\",\"Rum.\",\"Rus.\",\"s.\",\"sa.\",\"Sb.\",\"SEFD\",\"Bşk.\",\"sf.\",\"Sl.\",\"Sn.\",\n",
    "        \"snt.\",\"Sok.\",\"sos.\",\"sp.\",\"Srp.\",\"Şb.\",\"T.\",\"T.C.\",\"tar.\",\"Tb.\",\"tek.\",\"tel.\",\"telg.\",\"Tğm.\",\"tic.\",\"tiy.\",\"tlks.\",\n",
    "        \"tls.\",\"Top.\",\"Tug.\",\"Tuğa.\",\"Tuğg.\",\"Tüm.\",\"Tüma.\",\"Tümg.\",\"Uzm.\",\"Üçvş.\",\"ünl.\",\"Ütğm.\",\"vb.\",\"vd.\",\"Vet.\",\"vs.\",\n",
    "        \"Y.\",\"Mim.\",\"Y.\",\"Müh.\",\"Yay.\",\"Yb.\",\"Yd.\",\"Sb.\",\"Yrd.\",\"Yrd.\",\"Doç.\",\"Yun.\",\"yy.\",\"Yzb.\",\"zf.\",\"zm.\",\"zool.\",\n",
    "        \"St.\",\"Sh.\",\"Yd.\",\"İnş.\",\"Tic.\", \"Bkz.\",\"Tur.\",\"İşl\",\"San.\",\"Yat.\",\"İst.\"]\n",
    "\n",
    "\n"
   ]
  },
  {
   "cell_type": "code",
   "execution_count": null,
   "id": "dietary-words",
   "metadata": {},
   "outputs": [],
   "source": []
  }
 ],
 "metadata": {
  "kernelspec": {
   "display_name": "Python 3",
   "language": "python",
   "name": "python3"
  },
  "language_info": {
   "codemirror_mode": {
    "name": "ipython",
    "version": 3
   },
   "file_extension": ".py",
   "mimetype": "text/x-python",
   "name": "python",
   "nbconvert_exporter": "python",
   "pygments_lexer": "ipython3",
   "version": "3.8.8"
  }
 },
 "nbformat": 4,
 "nbformat_minor": 5
}
